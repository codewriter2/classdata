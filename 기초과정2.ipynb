{
 "cells": [
  {
   "cell_type": "markdown",
   "id": "e503adf2-3ac8-48ec-8251-1ddc7372e864",
   "metadata": {},
   "source": [
    "## 리스트\n",
    "- 리스트 생성\n",
    "- 인덱스로 값 출력하기\n",
    "- 리스트에 값 추가\n",
    "- 리스트에서 값 삭제\n",
    "- 랜덤 값을 리스트에 반복하여 추가하기\n",
    "- 랜덤 값을 이용한 간단한 프로그램 제작하기\n"
   ]
  },
  {
   "cell_type": "code",
   "execution_count": null,
   "id": "477e2428-f7f4-4100-a5c7-0d1003be9668",
   "metadata": {},
   "outputs": [],
   "source": []
  },
  {
   "cell_type": "code",
   "execution_count": 3,
   "id": "6a175bac-1319-4ec9-95e2-69d2d0ea6fdf",
   "metadata": {},
   "outputs": [
    {
     "name": "stdout",
     "output_type": "stream",
     "text": [
      "['민지', '수빈', '지영', '철수', '현우']\n",
      "오늘의 발표자는: 민지\n"
     ]
    }
   ],
   "source": [
    "import random\n",
    "students = [\"민지\", \"철수\", \"지영\", \"현우\", \"수빈\"]\n",
    "students.sort()\n",
    "print(students)\n",
    "winner = random.choice(students)\n",
    "print(\"오늘의 발표자는:\", winner)"
   ]
  },
  {
   "cell_type": "code",
   "execution_count": 8,
   "id": "b075b747-a6f9-47f1-99f6-69f8903a6823",
   "metadata": {},
   "outputs": [
    {
     "name": "stdout",
     "output_type": "stream",
     "text": [
      "생성된 리스트: [88, 69, 34, 61, 46, 2, 60, 88, 13, 84]\n"
     ]
    }
   ],
   "source": [
    "import random\n",
    "numbers = []\n",
    "# 1부터 100 사이의 랜덤 숫자 10개 추가\n",
    "for i in range(10):\n",
    "    value = random.randint(1, 100)\n",
    "    numbers.append(value)\n",
    "print(\"생성된 리스트:\", numbers)\n"
   ]
  },
  {
   "cell_type": "code",
   "execution_count": 16,
   "id": "d4d66089-f9e7-43f9-933d-675c4a495e79",
   "metadata": {},
   "outputs": [
    {
     "name": "stdout",
     "output_type": "stream",
     "text": [
      "1 : 김서빈\n",
      "2 : 정하빈\n",
      "3 : 박서우\n",
      "4 : 이채호\n",
      "5 : 박하빈\n"
     ]
    }
   ],
   "source": [
    "import random\n",
    "\n",
    "# 성(姓) / 姓氏\n",
    "last_names = [\"김\", \"이\", \"박\", \"최\", \"정\"]\n",
    "\n",
    "# 이름(名) 앞 음절 \n",
    "first_parts = [\"정\", \"채\", \"민\", \"지\", \"수\", \"준\", \"하\", \"서\", \"영\"]\n",
    "\n",
    "# 이름(名) 뒷 음절 \n",
    "second_parts = [\"호\", \"우\", \"현\", \"빈\", \"원\", \"연\", \"아\"]\n",
    "\n",
    "# 무작위 이름 생성 / 随机生成名字\n",
    "for i in range(5):\n",
    "    name = random.choice(last_names) + random.choice(first_parts) + random.choice(second_parts)\n",
    "    print(i+1, \":\", name)"
   ]
  },
  {
   "cell_type": "markdown",
   "id": "e8f9b674-5aba-4b55-aa73-b19782c04cda",
   "metadata": {},
   "source": [
    "## 딕셔너리\n",
    "- 딕셔너리 생성\n",
    "- 키를 이용하여 값 출력하기\n",
    "- 특정 키의 값 변경하기\n",
    "- 딕셔너리를 이용한 다양한 프로그램 만들기"
   ]
  },
  {
   "cell_type": "code",
   "execution_count": 42,
   "id": "1b471dd8-9bae-42cc-b319-cab9021ef05b",
   "metadata": {},
   "outputs": [
    {
     "name": "stdout",
     "output_type": "stream",
     "text": [
      "lee: 92\n",
      "kim : 90점\n",
      "lee : 92점\n",
      "choi : 78점\n",
      "park : 88점\n",
      "평균 점수: 87.0\n"
     ]
    }
   ],
   "source": [
    "# 학생 이름-점수 딕셔너리 만들기\n",
    "scores = {\"kim\": 85, \"lee\": 92, \"choi\": 78 }\n",
    "# 특정 학생 점수 출력\n",
    "print(\"lee:\", scores[\"lee\"])\n",
    "scores[\"park\"] = 88 #추가\n",
    "scores[\"kim\"] = 90  #값 변경\n",
    "# 전체 출력\n",
    "for name, score in scores.items():\n",
    "    print(f\"{name} : {score}점\")\n",
    "# 평균 점수\n",
    "print(\"평균 점수:\", sum(scores.values()) / len(scores))\n"
   ]
  },
  {
   "cell_type": "code",
   "execution_count": 7,
   "id": "e53c8110-50fa-4427-a526-164de9820f76",
   "metadata": {},
   "outputs": [
    {
     "name": "stdout",
     "output_type": "stream",
     "text": [
      "{'mom': '010-1111-2222', 'daddy': '010-2222-3333'}\n",
      "010-1111-2222\n",
      "{'mom': '010-1111-2222', 'daddy': '010-2222-3333', 'A': '010-3333-4444', 'B': '010-4333-5444'}\n",
      "mom : 010-1111-2222\n",
      "daddy : 010-2222-3333\n",
      "A : 010-3333-4444\n",
      "B : 010-4333-5444\n"
     ]
    }
   ],
   "source": [
    "phone_book ={'mom':'010-1111-2222', 'daddy':'010-2222-3333'}\n",
    "print(phone_book)\n",
    "print(phone_book['mom'])\n",
    "phone_book['A']='010-3333-4444'\n",
    "phone_book['B']='010-4333-5444'\n",
    "print(phone_book)\n",
    "for name, number in phone_book.items():\n",
    "    print(f'{name} : {number}')"
   ]
  },
  {
   "cell_type": "code",
   "execution_count": 50,
   "id": "f465cfc5-f305-4f43-af22-b3a249d84568",
   "metadata": {},
   "outputs": [
    {
     "name": "stdout",
     "output_type": "stream",
     "text": [
      "=== Vending Machine ===\n",
      "Menu and Prices:\n",
      "Coke: 1200 won\n",
      "Sprite: 1000 won\n",
      "Coffee: 1500 won\n",
      "Water: 800 won\n"
     ]
    },
    {
     "name": "stdin",
     "output_type": "stream",
     "text": [
      "\n",
      "Select a drink (type 'q' to quit):  q\n"
     ]
    },
    {
     "name": "stdout",
     "output_type": "stream",
     "text": [
      "QUIT\n"
     ]
    }
   ],
   "source": [
    "# Vending machine menu (dictionary: {item: price})\n",
    "menu = {\n",
    "    \"Coke\": 1200,\n",
    "    \"Sprite\": 1000,\n",
    "    \"Coffee\": 1500,\n",
    "    \"Water\": 800\n",
    "}\n",
    "print(\"=== Vending Machine ===\")\n",
    "print(\"Menu and Prices:\")\n",
    "for item, price in menu.items():\n",
    "    print(f\"{item}: {price} won\")\n",
    "while True:\n",
    "    choice = input(\"\\nSelect a drink (type 'q' to quit): \")\n",
    "    if choice == \"q\":\n",
    "        print(\"QUIT\")\n",
    "        break\n",
    "    if choice not in menu:\n",
    "        print(\"Please choose again.\")\n",
    "        continue\n",
    "    price = menu[choice]\n",
    "    print(\"Price:\", price, \"won\")\n",
    "    money = int(input(\"Insert money: \"))\n",
    "    if money >= price:\n",
    "        change = money - price\n",
    "        print(f\"You got {choice}. Change: {change} won\")\n",
    "    else:\n",
    "        print(\"Not enough money. Please try again.\")"
   ]
  },
  {
   "cell_type": "code",
   "execution_count": 7,
   "id": "fddbe860-64c0-4e36-91d7-dd6e508806ca",
   "metadata": {},
   "outputs": [
    {
     "name": "stdout",
     "output_type": "stream",
     "text": [
      "[65, 70, 80, 87, 90]\n",
      "MAX: 90\n",
      "MIN: 65\n",
      "SUM: 392\n",
      "AVG: 78.4\n"
     ]
    }
   ],
   "source": [
    "scores= [90,80,70,87,65]\n",
    "scores.sort()\n",
    "print(scores)\n",
    "print('MAX:', max(scores))\n",
    "print('MIN:', min(scores))\n",
    "print('SUM:', sum(scores))\n",
    "print('AVG:', sum(scores)/len(scores))\n"
   ]
  },
  {
   "cell_type": "code",
   "execution_count": 8,
   "id": "1f729c76-faaf-4adc-ab10-63a3a1b1b0e0",
   "metadata": {},
   "outputs": [
    {
     "name": "stdout",
     "output_type": "stream",
     "text": [
      "\n",
      "=== Simple English-Korean Dictionary ===\n",
      "1) 영어 → 한국어 조회 (English → Korean Search)\n",
      "2) 단어 추가 (Add Word)\n",
      "3) 단어 삭제 (Delete Word)\n",
      "4) 전체 단어 보기 (Show All Words)\n",
      "0) 종료 (Exit)\n"
     ]
    },
    {
     "name": "stdin",
     "output_type": "stream",
     "text": [
      "메뉴 선택 (Choose a menu):  1\n",
      "Enter an English word:  exam\n"
     ]
    },
    {
     "name": "stdout",
     "output_type": "stream",
     "text": [
      "Korean: 시험\n",
      "\n",
      "=== Simple English-Korean Dictionary ===\n",
      "1) 영어 → 한국어 조회 (English → Korean Search)\n",
      "2) 단어 추가 (Add Word)\n",
      "3) 단어 삭제 (Delete Word)\n",
      "4) 전체 단어 보기 (Show All Words)\n",
      "0) 종료 (Exit)\n"
     ]
    },
    {
     "name": "stdin",
     "output_type": "stream",
     "text": [
      "메뉴 선택 (Choose a menu):  4\n"
     ]
    },
    {
     "name": "stdout",
     "output_type": "stream",
     "text": [
      "=== All Words ===\n",
      "assignment : 과제\n",
      "exam : 시험\n",
      "professor : 교수님\n",
      "major : 전공\n",
      "credit : 학점\n",
      "library : 도서관\n",
      "presentation : 발표\n",
      "project : 프로젝트\n",
      "club : 동아리\n",
      "internship : 인턴십\n",
      "\n",
      "=== Simple English-Korean Dictionary ===\n",
      "1) 영어 → 한국어 조회 (English → Korean Search)\n",
      "2) 단어 추가 (Add Word)\n",
      "3) 단어 삭제 (Delete Word)\n",
      "4) 전체 단어 보기 (Show All Words)\n",
      "0) 종료 (Exit)\n"
     ]
    },
    {
     "name": "stdin",
     "output_type": "stream",
     "text": [
      "메뉴 선택 (Choose a menu):  2\n",
      "English word to add:  cafeteria\n",
      "Korean meaning:  카페테리아\n"
     ]
    },
    {
     "name": "stdout",
     "output_type": "stream",
     "text": [
      "Word added!\n",
      "\n",
      "=== Simple English-Korean Dictionary ===\n",
      "1) 영어 → 한국어 조회 (English → Korean Search)\n",
      "2) 단어 추가 (Add Word)\n",
      "3) 단어 삭제 (Delete Word)\n",
      "4) 전체 단어 보기 (Show All Words)\n",
      "0) 종료 (Exit)\n"
     ]
    },
    {
     "name": "stdin",
     "output_type": "stream",
     "text": [
      "메뉴 선택 (Choose a menu):  4\n"
     ]
    },
    {
     "name": "stdout",
     "output_type": "stream",
     "text": [
      "=== All Words ===\n",
      "assignment : 과제\n",
      "exam : 시험\n",
      "professor : 교수님\n",
      "major : 전공\n",
      "credit : 학점\n",
      "library : 도서관\n",
      "presentation : 발표\n",
      "project : 프로젝트\n",
      "club : 동아리\n",
      "internship : 인턴십\n",
      "cafeteria : 카페테리아\n",
      "\n",
      "=== Simple English-Korean Dictionary ===\n",
      "1) 영어 → 한국어 조회 (English → Korean Search)\n",
      "2) 단어 추가 (Add Word)\n",
      "3) 단어 삭제 (Delete Word)\n",
      "4) 전체 단어 보기 (Show All Words)\n",
      "0) 종료 (Exit)\n"
     ]
    },
    {
     "name": "stdin",
     "output_type": "stream",
     "text": [
      "메뉴 선택 (Choose a menu):  0\n"
     ]
    },
    {
     "name": "stdout",
     "output_type": "stream",
     "text": [
      "Program ended.\n"
     ]
    }
   ],
   "source": [
    "dictionary = {\n",
    "    \"assignment\": \"과제\",       \"exam\": \"시험\",      \"professor\": \"교수님\",\n",
    "    \"major\": \"전공\",      \"credit\": \"학점\",     \"library\": \"도서관\",\n",
    "    \"presentation\": \"발표\",     \"project\": \"프로젝트\",    \"club\": \"동아리\",\n",
    "    \"internship\": \"인턴십\"\n",
    "}\n",
    "while True:\n",
    "    print(\"\\n=== Simple English-Korean Dictionary ===\")\n",
    "    print(\"1) 영어 → 한국어 조회 (English → Korean Search)\")\n",
    "    print(\"2) 단어 추가 (Add Word)\")\n",
    "    print(\"3) 단어 삭제 (Delete Word)\")\n",
    "    print(\"4) 전체 단어 보기 (Show All Words)\")\n",
    "    print(\"0) 종료 (Exit)\")\n",
    "    choice = input(\"메뉴 선택 (Choose a menu): \")\n",
    "    if choice == \"1\":\n",
    "        word = input(\"Enter an English word: \")\n",
    "        if word in dictionary:\n",
    "            print(\"Korean:\", dictionary[word])\n",
    "        else:\n",
    "            print(\"Word not found in dictionary.\")\n",
    "    elif choice == \"2\":\n",
    "        en = input(\"English word to add: \")\n",
    "        ko = input(\"Korean meaning: \")\n",
    "        dictionary[en] = ko\n",
    "        print(\"Word added!\")\n",
    "    elif choice == \"3\":\n",
    "        en = input(\"English word to delete: \")\n",
    "        if en in dictionary:\n",
    "            del dictionary[en]\n",
    "            print(\"Word deleted!\")\n",
    "        else:\n",
    "            print(\"Word not found in dictionary.\")\n",
    "    elif choice == \"4\":\n",
    "        print(\"=== All Words ===\")\n",
    "        for k, v in dictionary.items():\n",
    "            print(k, \":\", v)\n",
    "    elif choice == \"0\":\n",
    "        print(\"Program ended.\")\n",
    "        break\n",
    "    else:\n",
    "        print(\"Please enter a valid menu number.\")\n"
   ]
  },
  {
   "cell_type": "code",
   "execution_count": 2,
   "id": "5b0e9422-0865-453c-bd78-b408214291b6",
   "metadata": {},
   "outputs": [
    {
     "name": "stdout",
     "output_type": "stream",
     "text": [
      "=== Initial Scores ===\n",
      "kim : 85 points\n",
      "lee : 92 points\n",
      "choi : 78 points\n",
      "\n",
      "=== Add Scores ===\n"
     ]
    },
    {
     "name": "stdin",
     "output_type": "stream",
     "text": [
      "Enter student name to add (q to quit):  park\n",
      "Enter park's score:  90\n"
     ]
    },
    {
     "name": "stdout",
     "output_type": "stream",
     "text": [
      "park's score has been added!\n"
     ]
    },
    {
     "name": "stdin",
     "output_type": "stream",
     "text": [
      "Enter student name to add (q to quit):  q\n"
     ]
    },
    {
     "name": "stdout",
     "output_type": "stream",
     "text": [
      "\n",
      "=== All Scores ===\n",
      "kim : 85 points\n",
      "lee : 92 points\n",
      "choi : 78 points\n",
      "park : 90 points\n",
      "\n",
      "Average Score: 86.25\n",
      "\n",
      "=== Search Scores ===\n"
     ]
    },
    {
     "name": "stdin",
     "output_type": "stream",
     "text": [
      "Enter student name to search (q to quit):  kim\n"
     ]
    },
    {
     "name": "stdout",
     "output_type": "stream",
     "text": [
      "kim's score is 85 points.\n"
     ]
    },
    {
     "name": "stdin",
     "output_type": "stream",
     "text": [
      "Enter student name to search (q to quit):  lee\n"
     ]
    },
    {
     "name": "stdout",
     "output_type": "stream",
     "text": [
      "lee's score is 92 points.\n"
     ]
    },
    {
     "name": "stdin",
     "output_type": "stream",
     "text": [
      "Enter student name to search (q to quit):  1\n"
     ]
    },
    {
     "name": "stdout",
     "output_type": "stream",
     "text": [
      "Student not found.\n"
     ]
    },
    {
     "name": "stdin",
     "output_type": "stream",
     "text": [
      "Enter student name to search (q to quit):  q\n"
     ]
    },
    {
     "name": "stdout",
     "output_type": "stream",
     "text": [
      "Search ended.\n"
     ]
    }
   ],
   "source": [
    "scores = {\"kim\": 85, \"lee\": 92, \"choi\": 78}\n",
    "\n",
    "# Initial scores\n",
    "print(\"=== Initial Scores ===\")\n",
    "for name, score in scores.items():\n",
    "    print(f\"{name} : {score} points\")\n",
    "\n",
    "# Add new scores\n",
    "print(\"\\n=== Add Scores ===\")\n",
    "while True:\n",
    "    name = input(\"Enter student name to add (q to quit): \")\n",
    "    if name == \"q\":\n",
    "        break\n",
    "    score = int(input(f\"Enter {name}'s score: \"))\n",
    "    scores[name] = score\n",
    "    print(f\"{name}'s score has been added!\")\n",
    "\n",
    "# Show all scores\n",
    "print(\"\\n=== All Scores ===\")\n",
    "for name, score in scores.items():\n",
    "    print(f\"{name} : {score} points\")\n",
    "\n",
    "# Average score\n",
    "print(\"\\nAverage Score:\", sum(scores.values()) / len(scores))\n",
    "\n",
    "# Search scores\n",
    "print(\"\\n=== Search Scores ===\")\n",
    "while True:\n",
    "    search = input(\"Enter student name to search (q to quit): \")\n",
    "    if search == \"q\":\n",
    "        print(\"Search ended.\")\n",
    "        break\n",
    "    if search in scores:\n",
    "        print(f\"{search}'s score is {scores[search]} points.\")\n",
    "    else:\n",
    "        print(\"Student not found.\")\n"
   ]
  },
  {
   "cell_type": "code",
   "execution_count": null,
   "id": "fa1ffa21-19b5-4a64-a9e6-89a64177e357",
   "metadata": {},
   "outputs": [],
   "source": []
  }
 ],
 "metadata": {
  "kernelspec": {
   "display_name": "Python 3 (ipykernel)",
   "language": "python",
   "name": "python3"
  },
  "language_info": {
   "codemirror_mode": {
    "name": "ipython",
    "version": 3
   },
   "file_extension": ".py",
   "mimetype": "text/x-python",
   "name": "python",
   "nbconvert_exporter": "python",
   "pygments_lexer": "ipython3",
   "version": "3.12.7"
  }
 },
 "nbformat": 4,
 "nbformat_minor": 5
}
