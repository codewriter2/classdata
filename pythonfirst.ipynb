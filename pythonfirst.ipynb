{
 "cells": [
  {
   "cell_type": "code",
   "execution_count": 6,
   "id": "96b5f865-61c1-42d7-854b-3a1623f6c8b5",
   "metadata": {},
   "outputs": [
    {
     "name": "stdout",
     "output_type": "stream",
     "text": [
      "hello\n",
      "world\n",
      "10\n",
      "7+3\n",
      "hellohellohello\n",
      "1020\n",
      "30\n"
     ]
    }
   ],
   "source": [
    "print('hello')\n",
    "print('world')\n",
    "print(7+3)\n",
    "print(\"7+3\")\n",
    "print(\"hello\"*3)\n",
    "print('10'+'20')\n",
    "print(10+20) #숫자와 문자 구분하여 연산 가능"
   ]
  },
  {
   "cell_type": "code",
   "execution_count": 10,
   "id": "ec792ab0-70f8-4883-ae0a-4fd3a5194d05",
   "metadata": {},
   "outputs": [
    {
     "name": "stdout",
     "output_type": "stream",
     "text": [
      "20\n",
      "kim\n",
      "25\n"
     ]
    }
   ],
   "source": [
    "age= 20\n",
    "print(age)\n",
    "x =10\n",
    "y = 3.14\n",
    "name ='kim'\n",
    "print(name)\n",
    "age=25\n",
    "print(age)"
   ]
  },
  {
   "cell_type": "code",
   "execution_count": 13,
   "id": "f67e71c1-f6b3-49c4-b089-453517a95cd3",
   "metadata": {},
   "outputs": [
    {
     "name": "stdout",
     "output_type": "stream",
     "text": [
      "TOT: 120\n",
      "AVG: 40.0\n"
     ]
    }
   ],
   "source": [
    "kor = 50\n",
    "eng = 40\n",
    "math = 30\n",
    "print(\"TOT:\",kor+eng+math)\n",
    "print(\"AVG:\",(kor+eng+math)/3)"
   ]
  },
  {
   "cell_type": "code",
   "execution_count": 18,
   "id": "a1fc9d72-0eec-4799-b8f7-f476043945b4",
   "metadata": {},
   "outputs": [
    {
     "name": "stdin",
     "output_type": "stream",
     "text": [
      "kor score?: 50\n",
      "english score? 40\n"
     ]
    },
    {
     "name": "stdout",
     "output_type": "stream",
     "text": [
      "90\n"
     ]
    }
   ],
   "source": [
    "kor = int(input(\"kor score?:\"))\n",
    "eng = int(input(\"english score?\"))\n",
    "print(kor+eng)"
   ]
  },
  {
   "cell_type": "code",
   "execution_count": 21,
   "id": "6985be9a-6eb1-460d-a3e7-114e5c2b3cfb",
   "metadata": {},
   "outputs": [
    {
     "name": "stdout",
     "output_type": "stream",
     "text": [
      "1\n",
      "False\n"
     ]
    }
   ],
   "source": [
    "print(10%3)\n",
    "print(10<=3)"
   ]
  },
  {
   "cell_type": "code",
   "execution_count": 23,
   "id": "2cb0056f-ef6c-492b-a43f-e6d9251bdf6f",
   "metadata": {},
   "outputs": [
    {
     "name": "stdin",
     "output_type": "stream",
     "text": [
      "나이:  15\n",
      "키(cm):  150\n"
     ]
    },
    {
     "name": "stdout",
     "output_type": "stream",
     "text": [
      "탑승 가능 여부: True\n"
     ]
    }
   ],
   "source": [
    "age = int(input(\"나이: \"))\n",
    "height = int(input(\"키(cm): \"))\n",
    "can_ride = (age >= 12) and (height >= 140)\n",
    "print(\"탑승 가능 여부:\", can_ride)"
   ]
  },
  {
   "cell_type": "code",
   "execution_count": 26,
   "id": "64329fda-7579-41c4-a062-96fd932cd6c8",
   "metadata": {},
   "outputs": [
    {
     "name": "stdout",
     "output_type": "stream",
     "text": [
      "3\n",
      "20\n"
     ]
    }
   ],
   "source": [
    "print(200//60)\n",
    "print(200%60)"
   ]
  },
  {
   "cell_type": "code",
   "execution_count": 29,
   "id": "c5e91bc4-eed5-4363-a21d-1705dfcdfa65",
   "metadata": {},
   "outputs": [
    {
     "name": "stdin",
     "output_type": "stream",
     "text": [
      "초 단위 시간: 2500\n"
     ]
    },
    {
     "name": "stdout",
     "output_type": "stream",
     "text": [
      "2500초는 0시간 41분 40초\n",
      "2500 초는 41 분\n"
     ]
    }
   ],
   "source": [
    "time = int(input(\"초 단위 시간:\"))\n",
    "hour = time//3600\n",
    "min = (time%3600)//60\n",
    "second = time%60\n",
    "print(f'{time}초는 {hour}시간 {min}분 {second}초')\n",
    "print(time,\"초는\", min,\"분\")\n"
   ]
  },
  {
   "cell_type": "code",
   "execution_count": 33,
   "id": "cd4c7227-ae03-4e1e-bb23-d9a481c86fb0",
   "metadata": {},
   "outputs": [
    {
     "name": "stdin",
     "output_type": "stream",
     "text": [
      "score: 85\n"
     ]
    },
    {
     "name": "stdout",
     "output_type": "stream",
     "text": [
      "B\n"
     ]
    }
   ],
   "source": [
    "x = int(input(\"score:\"))\n",
    "if x>=90:\n",
    "    print(\"A\")\n",
    "elif x>=80:\n",
    "    print(\"B\")\n",
    "elif x>=70:\n",
    "    print(\"C\")\n",
    "else:\n",
    "    print(\"F\")"
   ]
  },
  {
   "cell_type": "code",
   "execution_count": 40,
   "id": "242b3156-4c98-4407-8167-075440dd312d",
   "metadata": {},
   "outputs": [
    {
     "name": "stdout",
     "output_type": "stream",
     "text": [
      "1 Hello\n",
      "3 Hello\n",
      "5 Hello\n",
      "7 Hello\n",
      "9 Hello\n"
     ]
    }
   ],
   "source": [
    "for k in range(1,10,2):\n",
    "    print(k,\"Hello\")"
   ]
  },
  {
   "cell_type": "code",
   "execution_count": 42,
   "id": "091f7998-e6e6-4875-ba62-dc793555a5fa",
   "metadata": {},
   "outputs": [
    {
     "name": "stdout",
     "output_type": "stream",
     "text": [
      "0 1 2 3 4 5 6 7 8 9 "
     ]
    }
   ],
   "source": [
    "for i in range(10):\n",
    "    print(i, end=\" \")"
   ]
  },
  {
   "cell_type": "code",
   "execution_count": 46,
   "id": "1b177e20-8478-401b-963c-f5f9c900250d",
   "metadata": {},
   "outputs": [
    {
     "name": "stdout",
     "output_type": "stream",
     "text": [
      "i: 10 sum: 55\n",
      "총합: 55\n"
     ]
    }
   ],
   "source": [
    "sum = 0\n",
    "for i in range(1,11):\n",
    "    sum=sum+i\n",
    "    print(\"i:\", i, \"sum:\", sum )\n",
    "print(\"총합:\", sum)\n"
   ]
  },
  {
   "cell_type": "code",
   "execution_count": 55,
   "id": "59c71ef2-645f-4288-88e6-1c8ef4e50111",
   "metadata": {},
   "outputs": [
    {
     "name": "stdin",
     "output_type": "stream",
     "text": [
      "number? 85\n"
     ]
    },
    {
     "name": "stdout",
     "output_type": "stream",
     "text": [
      "X\n"
     ]
    },
    {
     "name": "stdin",
     "output_type": "stream",
     "text": [
      "number? 65\n"
     ]
    },
    {
     "name": "stdout",
     "output_type": "stream",
     "text": [
      "X\n"
     ]
    },
    {
     "name": "stdin",
     "output_type": "stream",
     "text": [
      "number? 47\n"
     ]
    },
    {
     "name": "stdout",
     "output_type": "stream",
     "text": [
      "X\n"
     ]
    },
    {
     "name": "stdin",
     "output_type": "stream",
     "text": [
      "number? 58\n"
     ]
    },
    {
     "name": "stdout",
     "output_type": "stream",
     "text": [
      "X\n"
     ]
    },
    {
     "name": "stdin",
     "output_type": "stream",
     "text": [
      "number? 64\n"
     ]
    },
    {
     "name": "stdout",
     "output_type": "stream",
     "text": [
      "X\n",
      "7\n"
     ]
    }
   ],
   "source": [
    "import random\n",
    "x = random.randint(1,100)\n",
    "\n",
    "for i in range(5):\n",
    "    y = int(input(\"number?\"))\n",
    "#비교\n",
    "    if x==y:\n",
    "        print(\"O\")\n",
    "    else :\n",
    "        print(\"X\")\n",
    "print(x)"
   ]
  },
  {
   "cell_type": "code",
   "execution_count": null,
   "id": "bf71790b-a8a1-454c-a862-95467732008d",
   "metadata": {},
   "outputs": [],
   "source": []
  }
 ],
 "metadata": {
  "kernelspec": {
   "display_name": "Python 3 (ipykernel)",
   "language": "python",
   "name": "python3"
  },
  "language_info": {
   "codemirror_mode": {
    "name": "ipython",
    "version": 3
   },
   "file_extension": ".py",
   "mimetype": "text/x-python",
   "name": "python",
   "nbconvert_exporter": "python",
   "pygments_lexer": "ipython3",
   "version": "3.13.5"
  }
 },
 "nbformat": 4,
 "nbformat_minor": 5
}
